{
 "cells": [
  {
   "cell_type": "markdown",
   "id": "abd7dae25a226bf4",
   "metadata": {},
   "source": [
    "# Tech Vs Humans"
   ]
  },
  {
   "cell_type": "code",
   "execution_count": 2,
   "id": "b61b1a216cdd557d",
   "metadata": {
    "ExecuteTime": {
     "end_time": "2023-09-12T13:28:49.192407Z",
     "start_time": "2023-09-12T13:28:49.169010Z"
    }
   },
   "outputs": [],
   "source": [
    "import hashlib\n",
    "import itertools\n",
    "\n",
    "import matplotlib.pyplot as plt\n",
    "import pandas as pd\n",
    "import pinecone\n",
    "import tiktoken\n",
    "from datasets import load_dataset\n",
    "from dotenv import load_dotenv\n",
    "from langchain.chains import RetrievalQA\n",
    "from langchain.chains.conversation.memory import ConversationBufferWindowMemory\n",
    "from langchain.chat_models import ChatOpenAI\n",
    "from langchain.docstore.document import Document\n",
    "from langchain.embeddings import OpenAIEmbeddings\n",
    "from langchain.text_splitter import RecursiveCharacterTextSplitter\n",
    "from langchain.vectorstores import Pinecone\n",
    "from sklearn.cluster import KMeans\n",
    "from sklearn.decomposition import PCA\n",
    "from sklearn.metrics import silhouette_score\n",
    "from tqdm import tqdm"
   ]
  },
  {
   "cell_type": "code",
   "execution_count": 3,
   "id": "5927f6b772d36310",
   "metadata": {
    "ExecuteTime": {
     "end_time": "2023-09-12T13:28:50.513349Z",
     "start_time": "2023-09-12T13:28:50.494784Z"
    }
   },
   "outputs": [
    {
     "data": {
      "text/plain": "True"
     },
     "execution_count": 3,
     "metadata": {},
     "output_type": "execute_result"
    }
   ],
   "source": [
    "load_dotenv()"
   ]
  },
  {
   "cell_type": "code",
   "execution_count": 4,
   "outputs": [
    {
     "name": "stderr",
     "output_type": "stream",
     "text": [
      "Found cached dataset json (/Users/alexwoolford/.cache/huggingface/datasets/alexwoolford___json/alexwoolford--tech_vs_humans-a8c3e9b31ba11587/0.0.0/e347ab1c932092252e717ff3f949105a4dd28b27e842dd53157d2f72e276c2e4)\n"
     ]
    }
   ],
   "source": [
    "articles = load_dataset('alexwoolford/tech_vs_humans', split='train')"
   ],
   "metadata": {
    "collapsed": false,
    "ExecuteTime": {
     "end_time": "2023-09-12T13:28:53.784727Z",
     "start_time": "2023-09-12T13:28:52.770329Z"
    }
   },
   "id": "b1fa56f455ae09b1"
  },
  {
   "cell_type": "code",
   "execution_count": 5,
   "outputs": [
    {
     "data": {
      "text/plain": "Dataset({\n    features: ['title', 'author', 'content', 'url'],\n    num_rows: 150\n})"
     },
     "execution_count": 5,
     "metadata": {},
     "output_type": "execute_result"
    }
   ],
   "source": [
    "articles"
   ],
   "metadata": {
    "collapsed": false,
    "ExecuteTime": {
     "end_time": "2023-09-12T13:28:57.888329Z",
     "start_time": "2023-09-12T13:28:57.872604Z"
    }
   },
   "id": "c1de4f924e9a3ac7"
  },
  {
   "cell_type": "code",
   "execution_count": 6,
   "id": "de23c9fd5f5d0d3e",
   "metadata": {
    "ExecuteTime": {
     "end_time": "2023-09-12T13:29:11.885132Z",
     "start_time": "2023-09-12T13:29:11.646529Z"
    }
   },
   "outputs": [],
   "source": [
    "tokenizer = tiktoken.get_encoding('cl100k_base')"
   ]
  },
  {
   "cell_type": "code",
   "execution_count": 7,
   "id": "1fcdfa871390a4a5",
   "metadata": {
    "ExecuteTime": {
     "end_time": "2023-09-12T13:29:16.565535Z",
     "start_time": "2023-09-12T13:29:16.540092Z"
    }
   },
   "outputs": [],
   "source": [
    "def toktoken_len(text):\n",
    "    tokens = tokenizer.encode(\n",
    "        text,\n",
    "        disallowed_special=()\n",
    "    )\n",
    "    return len(tokens)"
   ]
  },
  {
   "cell_type": "code",
   "execution_count": 8,
   "id": "4e9cbe0038342273",
   "metadata": {
    "ExecuteTime": {
     "end_time": "2023-09-12T13:29:17.590365Z",
     "start_time": "2023-09-12T13:29:17.554537Z"
    }
   },
   "outputs": [],
   "source": [
    "text_splitter = RecursiveCharacterTextSplitter(\n",
    "    chunk_size=400,\n",
    "    chunk_overlap=20,\n",
    "    length_function=toktoken_len,\n",
    "    separators=['\\n\\n', '\\n', ' ', '']\n",
    ")"
   ]
  },
  {
   "cell_type": "markdown",
   "id": "eb0a92087835ac7e",
   "metadata": {},
   "source": [
    "Each chunk needs an id so we can associate it with the source url. We'll use the first 12 characters of the md5 hash of the url. We use a hash because it's more compact than the url itself, and when a single article is split into multiple chunks, we want to be able to associate each chunk with the original url. We add a suffix to the hash of the url to indicate the chunk number."
   ]
  },
  {
   "cell_type": "code",
   "execution_count": 9,
   "id": "babd777a5d2b3dc4",
   "metadata": {
    "ExecuteTime": {
     "end_time": "2023-09-12T13:29:19.202836Z",
     "start_time": "2023-09-12T13:29:19.196900Z"
    }
   },
   "outputs": [],
   "source": [
    "def get_url_id(url):\n",
    "    m = hashlib.md5()\n",
    "    m.update(url.encode('utf-8'))\n",
    "    return m.hexdigest()[:12]"
   ]
  },
  {
   "cell_type": "code",
   "execution_count": 10,
   "id": "dd06f9d74d23550",
   "metadata": {
    "ExecuteTime": {
     "end_time": "2023-09-12T13:29:20.570620Z",
     "start_time": "2023-09-12T13:29:20.519164Z"
    }
   },
   "outputs": [],
   "source": [
    "embeddings_model = OpenAIEmbeddings(model=\"text-embedding-ada-002\")"
   ]
  },
  {
   "cell_type": "markdown",
   "id": "7a9195fbd04df9d4",
   "metadata": {},
   "source": [
    "Iterate through each article, split it into chunks, and create a document for each chunk. The document metadata includes the chunk embedding, the source url, and the chunk text."
   ]
  },
  {
   "cell_type": "code",
   "execution_count": 11,
   "id": "cfc3042f5c9a7e45",
   "metadata": {
    "ExecuteTime": {
     "end_time": "2023-09-12T13:31:16.414704Z",
     "start_time": "2023-09-12T13:29:23.187217Z"
    }
   },
   "outputs": [
    {
     "name": "stderr",
     "output_type": "stream",
     "text": [
      "100%|██████████| 150/150 [01:53<00:00,  1.33it/s]\n"
     ]
    }
   ],
   "source": [
    "docs = []\n",
    "for article in tqdm(articles):\n",
    "    url = article['url']\n",
    "    content = article['content']\n",
    "    text_chunks = text_splitter.split_text(content)\n",
    "    for i, text_chunk in enumerate(text_chunks):\n",
    "        id = f'{get_url_id(url)}-{i}'\n",
    "        chunk_embedding = embeddings_model.embed_documents([text_chunk])[0]\n",
    "        metadata = {\n",
    "            'id': id,\n",
    "            'source': url,\n",
    "            'embedding': chunk_embedding,\n",
    "            'text': text_chunk,\n",
    "        }\n",
    "        doc = Document(page_content=text_chunk, metadata=metadata)\n",
    "        docs.append(doc)"
   ]
  },
  {
   "cell_type": "code",
   "execution_count": 12,
   "id": "bf009c865c99cda0",
   "metadata": {
    "ExecuteTime": {
     "end_time": "2023-09-12T13:31:32.342330Z",
     "start_time": "2023-09-12T13:31:32.331509Z"
    }
   },
   "outputs": [],
   "source": [
    "id_embedding_metadata = []\n",
    "for doc in docs:\n",
    "    doc_id = doc.metadata['id']\n",
    "    embedding = doc.metadata['embedding']\n",
    "    additional_metadata = {\n",
    "        'source': doc.metadata.get('source'),\n",
    "        'text': doc.metadata.get('text')\n",
    "    }\n",
    "    id_embedding_metadata.append((doc_id, embedding, additional_metadata))"
   ]
  },
  {
   "cell_type": "code",
   "execution_count": 13,
   "outputs": [],
   "source": [
    "id_embedding = []\n",
    "for doc in docs:\n",
    "    id = doc.metadata['id']\n",
    "    embedding = doc.metadata['embedding']\n",
    "    id_embedding.append((id, embedding))"
   ],
   "metadata": {
    "collapsed": false,
    "ExecuteTime": {
     "end_time": "2023-09-12T13:31:38.186626Z",
     "start_time": "2023-09-12T13:31:38.147456Z"
    }
   },
   "id": "4a2850964bc93ba0"
  },
  {
   "cell_type": "code",
   "execution_count": 14,
   "outputs": [],
   "source": [
    "id_embedding_df = pd.DataFrame(id_embedding, columns=['id', 'embedding'])"
   ],
   "metadata": {
    "collapsed": false,
    "ExecuteTime": {
     "end_time": "2023-09-12T13:31:40.483140Z",
     "start_time": "2023-09-12T13:31:40.447099Z"
    }
   },
   "id": "212435dc68a0d4ae"
  },
  {
   "cell_type": "code",
   "execution_count": 15,
   "outputs": [],
   "source": [
    "embedding_df = pd.DataFrame(id_embedding_df['embedding'].to_list())"
   ],
   "metadata": {
    "collapsed": false,
    "ExecuteTime": {
     "end_time": "2023-09-12T13:31:41.593431Z",
     "start_time": "2023-09-12T13:31:41.588429Z"
    }
   },
   "id": "2f2108228e3284d0"
  },
  {
   "cell_type": "code",
   "execution_count": 16,
   "outputs": [],
   "source": [
    "id_embedding_df = pd.concat([id_embedding_df['id'], embedding_df], axis=1)"
   ],
   "metadata": {
    "collapsed": false,
    "ExecuteTime": {
     "end_time": "2023-09-12T13:31:43.175476Z",
     "start_time": "2023-09-12T13:31:43.141560Z"
    }
   },
   "id": "b191239f9aee595b"
  },
  {
   "cell_type": "code",
   "execution_count": 17,
   "outputs": [],
   "source": [
    "# Separate out the embedding values (all columns except the first one) for clustering\n",
    "X = id_embedding_df.iloc[:, 1:]"
   ],
   "metadata": {
    "collapsed": false,
    "ExecuteTime": {
     "end_time": "2023-09-12T13:31:46.760876Z",
     "start_time": "2023-09-12T13:31:46.727471Z"
    }
   },
   "id": "d2514dab54f725c4"
  },
  {
   "cell_type": "code",
   "execution_count": 18,
   "outputs": [],
   "source": [
    "pca = PCA(n_components=50)  # Adjust the number of components as needed\n",
    "X_pca = pca.fit_transform(X)"
   ],
   "metadata": {
    "collapsed": false,
    "ExecuteTime": {
     "end_time": "2023-09-12T13:31:47.835980Z",
     "start_time": "2023-09-12T13:31:47.763915Z"
    }
   },
   "id": "c4064ac0ed77aabf"
  },
  {
   "cell_type": "code",
   "execution_count": 19,
   "outputs": [
    {
     "data": {
      "text/plain": "<Figure size 1600x800 with 1 Axes>",
      "image/png": "[encoded data removed]"
     },
     "metadata": {},
     "output_type": "display_data"
    }
   ],
   "source": [
    "distortions = []\n",
    "K = range(1, 20)\n",
    "for k in K:\n",
    "    kmeanModel = KMeans(n_clusters=k, n_init=10)\n",
    "    kmeanModel.fit(X_pca)\n",
    "    distortions.append(kmeanModel.inertia_)\n",
    "\n",
    "plt.figure(figsize=(16,8))\n",
    "plt.plot(K, distortions, 'bx-')\n",
    "plt.xlabel('k')\n",
    "plt.ylabel('Distortion')\n",
    "plt.title('The Elbow Method showing the optimal k')\n",
    "plt.show()"
   ],
   "metadata": {
    "collapsed": false,
    "ExecuteTime": {
     "end_time": "2023-09-12T13:31:49.881974Z",
     "start_time": "2023-09-12T13:31:48.969038Z"
    }
   },
   "id": "69d09eceba54e990"
  },
  {
   "cell_type": "code",
   "execution_count": 20,
   "outputs": [
    {
     "data": {
      "text/plain": "<Figure size 1600x800 with 1 Axes>",
      "image/png": "[encoded data removed]"
     },
     "metadata": {},
     "output_type": "display_data"
    }
   ],
   "source": [
    "sil = []\n",
    "K = range(2, 20)  # Starts from 2 because silhouette score is undefined for a single cluster\n",
    "for k in K:\n",
    "    kmeans = KMeans(n_clusters=k, n_init=10).fit(X_pca)\n",
    "    labels = kmeans.labels_\n",
    "    sil.append(silhouette_score(X_pca, labels, metric = 'euclidean'))\n",
    "\n",
    "plt.figure(figsize=(16,8))\n",
    "plt.plot(K, sil, 'bx-')\n",
    "plt.xlabel('k')\n",
    "plt.ylabel('Silhouette Score')\n",
    "plt.title('Silhouette Score for various values of k')\n",
    "plt.show()"
   ],
   "metadata": {
    "collapsed": false,
    "ExecuteTime": {
     "end_time": "2023-09-12T13:32:01.030493Z",
     "start_time": "2023-09-12T13:32:00.130690Z"
    }
   },
   "id": "2487d5f0db841de4"
  },
  {
   "cell_type": "code",
   "execution_count": 21,
   "outputs": [],
   "source": [
    "optimal_clusters = 5\n",
    "kmeans = KMeans(n_clusters=optimal_clusters, n_init=10)\n",
    "id_embedding_df['cluster_id'] = kmeans.fit_predict(X_pca)"
   ],
   "metadata": {
    "collapsed": false,
    "ExecuteTime": {
     "end_time": "2023-09-12T13:32:08.978232Z",
     "start_time": "2023-09-12T13:32:08.931206Z"
    }
   },
   "id": "124f0e80a8306fbb"
  },
  {
   "cell_type": "code",
   "execution_count": 22,
   "outputs": [],
   "source": [
    "id_cluster_id = id_embedding_df[['id', 'cluster_id']]"
   ],
   "metadata": {
    "collapsed": false,
    "ExecuteTime": {
     "end_time": "2023-09-12T13:32:14.998362Z",
     "start_time": "2023-09-12T13:32:14.988525Z"
    }
   },
   "id": "bdf45a15442afe48"
  },
  {
   "cell_type": "code",
   "execution_count": 23,
   "outputs": [],
   "source": [
    "id_cluster_dict = dict(zip(id_cluster_id['id'], id_cluster_id['cluster_id']))"
   ],
   "metadata": {
    "collapsed": false,
    "ExecuteTime": {
     "end_time": "2023-09-12T13:32:15.888851Z",
     "start_time": "2023-09-12T13:32:15.881732Z"
    }
   },
   "id": "5e7fc4553c4c3fd8"
  },
  {
   "cell_type": "code",
   "execution_count": 24,
   "outputs": [],
   "source": [
    "# Loop over all the docs and assign the cluster_id to each doc using the id_cluster_dict\n",
    "for doc in docs:\n",
    "    doc_id = doc.metadata['id']\n",
    "    doc.metadata['cluster_id'] = id_cluster_dict.get(doc_id)"
   ],
   "metadata": {
    "collapsed": false,
    "ExecuteTime": {
     "end_time": "2023-09-12T13:32:16.737473Z",
     "start_time": "2023-09-12T13:32:16.718806Z"
    }
   },
   "id": "8039e3001f675ab6"
  },
  {
   "cell_type": "code",
   "execution_count": null,
   "outputs": [],
   "source": [
    "## TODO: cluster articles based on embeddings into themes"
   ],
   "metadata": {
    "collapsed": false
   },
   "id": "4fd729db5245d6a2"
  },
  {
   "cell_type": "code",
   "execution_count": 25,
   "outputs": [],
   "source": [
    "index_name = 'articles'\n",
    "pinecone.init()\n",
    "\n",
    "if index_name not in pinecone.list_indexes():\n",
    "    # we create a new index\n",
    "    pinecone.create_index(\n",
    "        name=index_name,\n",
    "        metric='cosine',\n",
    "        dimension=1536\n",
    "    )"
   ],
   "metadata": {
    "collapsed": false,
    "ExecuteTime": {
     "end_time": "2023-09-12T13:32:26.608423Z",
     "start_time": "2023-09-12T13:32:25.678841Z"
    }
   },
   "id": "421279ba1de8f6e3"
  },
  {
   "cell_type": "code",
   "execution_count": 26,
   "outputs": [],
   "source": [
    "def chunks(iterable, batch_size=100):\n",
    "    \"\"\"A helper function to break an iterable into chunks of size batch_size.\"\"\"\n",
    "    it = iter(iterable)\n",
    "    chunk = tuple(itertools.islice(it, batch_size))\n",
    "    while chunk:\n",
    "        yield chunk\n",
    "        chunk = tuple(itertools.islice(it, batch_size))"
   ],
   "metadata": {
    "collapsed": false,
    "ExecuteTime": {
     "end_time": "2023-09-12T13:32:28.344155Z",
     "start_time": "2023-09-12T13:32:28.326055Z"
    }
   },
   "id": "1ddf49219060870a"
  },
  {
   "cell_type": "code",
   "execution_count": 27,
   "outputs": [],
   "source": [
    "index = pinecone.Index(index_name)"
   ],
   "metadata": {
    "collapsed": false,
    "ExecuteTime": {
     "end_time": "2023-09-12T13:32:29.801456Z",
     "start_time": "2023-09-12T13:32:29.784562Z"
    }
   },
   "id": "5f8c9ffd2c9810f5"
  },
  {
   "cell_type": "code",
   "execution_count": 28,
   "outputs": [],
   "source": [
    "with pinecone.Index(index_name, pool_threads=30) as index:\n",
    "    # Send requests in parallel\n",
    "    async_results = [\n",
    "        index.upsert(vectors=ids_vectors_chunk, async_req=True)\n",
    "        for ids_vectors_chunk in chunks(id_embedding_metadata, batch_size=100)\n",
    "    ]\n",
    "    # Wait for and retrieve responses (this raises in case of error)\n",
    "    [async_result.get() for async_result in async_results]"
   ],
   "metadata": {
    "collapsed": false,
    "ExecuteTime": {
     "end_time": "2023-09-12T13:32:43.926965Z",
     "start_time": "2023-09-12T13:32:31.397812Z"
    }
   },
   "id": "cecfb416fe3eae37"
  },
  {
   "cell_type": "code",
   "execution_count": 29,
   "outputs": [
    {
     "data": {
      "text/plain": "{'dimension': 1536,\n 'index_fullness': 0.0,\n 'namespaces': {'': {'vector_count': 402}},\n 'total_vector_count': 402}"
     },
     "execution_count": 29,
     "metadata": {},
     "output_type": "execute_result"
    }
   ],
   "source": [
    "index.describe_index_stats()"
   ],
   "metadata": {
    "collapsed": false,
    "ExecuteTime": {
     "end_time": "2023-09-12T13:32:48.268048Z",
     "start_time": "2023-09-12T13:32:48.202476Z"
    }
   },
   "id": "cf94dc048c61a909"
  },
  {
   "cell_type": "code",
   "execution_count": 30,
   "outputs": [
    {
     "name": "stderr",
     "output_type": "stream",
     "text": [
      "/Users/alexwoolford/anaconda3/envs/tech_vs_humans/lib/python3.11/site-packages/langchain/vectorstores/pinecone.py:60: UserWarning: Passing in `embedding` as a Callable is deprecated. Please pass in an Embeddings object instead.\n",
      "  warnings.warn(\n"
     ]
    }
   ],
   "source": [
    "text_field = \"text\"\n",
    "\n",
    "vectorstore = Pinecone(\n",
    "    index, embeddings_model.embed_query, text_field\n",
    ")"
   ],
   "metadata": {
    "collapsed": false,
    "ExecuteTime": {
     "end_time": "2023-09-12T13:32:49.668416Z",
     "start_time": "2023-09-12T13:32:49.654068Z"
    }
   },
   "id": "1946edf2dbb412e8"
  },
  {
   "cell_type": "code",
   "execution_count": 31,
   "outputs": [],
   "source": [
    "# chat completion llm\n",
    "llm = ChatOpenAI(model_name='gpt-4', temperature=0.0)"
   ],
   "metadata": {
    "collapsed": false,
    "ExecuteTime": {
     "end_time": "2023-09-12T13:32:51.690030Z",
     "start_time": "2023-09-12T13:32:51.670961Z"
    }
   },
   "id": "592ea8e48d97826c"
  },
  {
   "cell_type": "code",
   "execution_count": 32,
   "outputs": [],
   "source": [
    "# conversational memory\n",
    "conversational_memory = ConversationBufferWindowMemory(\n",
    "    memory_key='chat_history',\n",
    "    k=5,\n",
    "    return_messages=True\n",
    ")"
   ],
   "metadata": {
    "collapsed": false,
    "ExecuteTime": {
     "end_time": "2023-09-12T13:32:56.331524Z",
     "start_time": "2023-09-12T13:32:56.297724Z"
    }
   },
   "id": "46eb0bf0116726e1"
  },
  {
   "cell_type": "code",
   "execution_count": 33,
   "outputs": [],
   "source": [
    "# retrieval qa chain\n",
    "qa = RetrievalQA.from_chain_type(\n",
    "    llm=llm,\n",
    "    chain_type=\"stuff\",\n",
    "    retriever=vectorstore.as_retriever()\n",
    ")"
   ],
   "metadata": {
    "collapsed": false,
    "ExecuteTime": {
     "end_time": "2023-09-12T13:32:57.345216Z",
     "start_time": "2023-09-12T13:32:57.338044Z"
    }
   },
   "id": "c5feb3ec0862a856"
  },
  {
   "cell_type": "code",
   "execution_count": 34,
   "outputs": [],
   "source": [
    "query = (\"What is the star thrower parable?\")"
   ],
   "metadata": {
    "collapsed": false,
    "ExecuteTime": {
     "end_time": "2023-09-12T13:34:10.367550Z",
     "start_time": "2023-09-12T13:34:10.358661Z"
    }
   },
   "id": "615b7ce132141032"
  },
  {
   "cell_type": "code",
   "execution_count": 35,
   "outputs": [
    {
     "name": "stdout",
     "output_type": "stream",
     "text": [
      "The Star Thrower Parable, also known as the Starfish Parable, is a story about an old man who used to go to the ocean to do his writing. One morning, after a big storm, he found the beach littered with starfish. He noticed a small boy who was picking up the starfish one by one and throwing them back into the sea. When the old man asked the boy what he was doing, the boy explained that he was saving the starfish from dying under the hot sun. The old man pointed out that there were thousands of starfish and the boy's efforts wouldn't make much of a difference. The boy picked up another starfish, threw it into the sea, and said, \"It made a difference to that one!\" The parable is often used to illustrate the idea that individual actions can make a difference, even in the face of overwhelming odds.\n"
     ]
    }
   ],
   "source": [
    "print(qa.run(query))"
   ],
   "metadata": {
    "collapsed": false,
    "ExecuteTime": {
     "end_time": "2023-09-12T13:34:33.729448Z",
     "start_time": "2023-09-12T13:34:11.397734Z"
    }
   },
   "id": "e2eeb6ef5774f379"
  },
  {
   "cell_type": "code",
   "execution_count": 36,
   "outputs": [],
   "source": [
    "query = (\"Are there are broad themes or patterns? What can we learn about the type of person the author is from the articles?\")"
   ],
   "metadata": {
    "collapsed": false,
    "ExecuteTime": {
     "end_time": "2023-09-12T13:34:41.035605Z",
     "start_time": "2023-09-12T13:34:41.028163Z"
    }
   },
   "id": "3fe57e74b6b74a5e"
  },
  {
   "cell_type": "code",
   "execution_count": 37,
   "outputs": [
    {
     "name": "stdout",
     "output_type": "stream",
     "text": [
      "The author seems to be someone who values the process of learning and growth over the end result. They believe in the importance of understanding and appreciating the journey, rather than just focusing on the outcome. They also seem to be patient and understanding, especially when dealing with different types of people during software implementation. The author appears to be knowledgeable about project management and conflict resolution, and they often reference books and other resources to support their points. They also seem to have a passion for music, as they include \"Supporting Music\" in their posts.\n"
     ]
    }
   ],
   "source": [
    "print(qa.run(query))"
   ],
   "metadata": {
    "collapsed": false,
    "ExecuteTime": {
     "end_time": "2023-09-12T13:34:57.412274Z",
     "start_time": "2023-09-12T13:34:41.942905Z"
    }
   },
   "id": "1585aea9a33a793d"
  }
 ],
 "metadata": {
  "kernelspec": {
   "display_name": "Python 3 (ipykernel)",
   "language": "python",
   "name": "python3"
  },
  "language_info": {
   "codemirror_mode": {
    "name": "ipython",
    "version": 3
   },
   "file_extension": ".py",
   "mimetype": "text/x-python",
   "name": "python",
   "nbconvert_exporter": "python",
   "pygments_lexer": "ipython3",
   "version": "3.11.5"
  }
 },
 "nbformat": 4,
 "nbformat_minor": 5
}
